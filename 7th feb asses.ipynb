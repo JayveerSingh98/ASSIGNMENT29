{
 "cells": [
  {
   "cell_type": "code",
   "execution_count": 1,
   "id": "1bb3ed28-155d-46f1-b3a3-34e5cf1dcdc0",
   "metadata": {},
   "outputs": [],
   "source": [
    "#TASK1\n",
    "import re\n",
    "\n",
    "def password_validator(password):\n",
    "    \"\"\"\n",
    "    This function checks the validity of a password\n",
    "    \"\"\"\n",
    "    special_chars ='[@_!#$%^&*()<>?/\\|}{~:]'\n",
    "    count_upper_chars=0\n",
    "    count_lower_chars=0\n",
    "    count_numerics=0\n",
    "    count_special_chars=0\n",
    "\n",
    "    for each_letter in password:\n",
    "        if each_letter.isupper()==True:\n",
    "            count_upper_chars+=1\n",
    "        if each_letter.islower()==True:\n",
    "            count_lower_chars+=1\n",
    "        if each_letter.isnumeric()==True:\n",
    "            count_numerics+=1\n",
    "        if each_letter in special_chars:\n",
    "            count_special_chars+=1\n",
    "\n",
    "    if count_upper_chars>=2 and count_lower_chars>=2 and count_numerics>=1 and count_special_chars>=3 and len(password)>=10:\n",
    "        print('Valid Password')\n",
    "    else:\n",
    "        print('Invalid Password\\n')\n",
    "        print(f\"Number of upper-case letters in password: {count_upper_chars}\")\n",
    "        print(f\"Number of lower-case letters in password: {count_lower_chars}\")\n",
    "        print(f\"Number of numeric letters in password: {count_numerics}\")\n",
    "        print(f\"Number of special characters in password: {count_special_chars}\")\n",
    "        print(f\"Length of password: {len(password)}\")"
   ]
  },
  {
   "cell_type": "code",
   "execution_count": 2,
   "id": "f5a868b0-c3a8-4119-bc08-ac8aedba21f4",
   "metadata": {},
   "outputs": [
    {
     "name": "stdin",
     "output_type": "stream",
     "text": [
      "Enter Password:  ShouldReturn**False\n"
     ]
    },
    {
     "name": "stdout",
     "output_type": "stream",
     "text": [
      "Invalid Password\n",
      "\n",
      "Number of upper-case letters in password: 3\n",
      "Number of lower-case letters in password: 14\n",
      "Number of numeric letters in password: 0\n",
      "Number of special characters in password: 2\n",
      "Length of password: 19\n"
     ]
    }
   ],
   "source": [
    "password = input(\"Enter Password: \")\n",
    "password_validator(password) \n",
    "#password entered: ShouldReturn**False"
   ]
  },
  {
   "cell_type": "code",
   "execution_count": 3,
   "id": "e6a42e56-d07b-4652-8d42-c8989704538a",
   "metadata": {},
   "outputs": [
    {
     "name": "stdin",
     "output_type": "stream",
     "text": [
      "Enter Password:  1*ThiSshoulDReturNTrue23*&\n"
     ]
    },
    {
     "name": "stdout",
     "output_type": "stream",
     "text": [
      "Valid Password\n"
     ]
    }
   ],
   "source": [
    "password = input(\"Enter Password: \")\n",
    "password_validator(password) \n",
    "#password entered: 1*ThiSshoulDReturNTrue23*&"
   ]
  },
  {
   "cell_type": "code",
   "execution_count": 5,
   "id": "e29a3e1e-1585-4ecb-89bb-c52dac7c4e9f",
   "metadata": {},
   "outputs": [
    {
     "name": "stdin",
     "output_type": "stream",
     "text": [
      "Enter String:  &3dfaong\n"
     ]
    },
    {
     "name": "stdout",
     "output_type": "stream",
     "text": [
      "String starts with particular letter:  True\n"
     ]
    }
   ],
   "source": [
    "#TASK2 Q1\n",
    "particular_letter='&'\n",
    "string = input('Enter String: ')\n",
    "response = True if string.startswith(particular_letter)==True else False\n",
    "print(\"String starts with particular letter: \",response)\n",
    "#Entered String: &3dfaong"
   ]
  },
  {
   "cell_type": "code",
   "execution_count": 7,
   "id": "19e7c5c4-abde-4ea3-8d84-a8d36dc1703e",
   "metadata": {},
   "outputs": [
    {
     "name": "stdin",
     "output_type": "stream",
     "text": [
      "Enter String:  46373837846\n"
     ]
    },
    {
     "name": "stdout",
     "output_type": "stream",
     "text": [
      "String is numeric:  True\n"
     ]
    }
   ],
   "source": [
    "#TASK2 Q2\n",
    "string = input('Enter String: ')\n",
    "response = True if string.isnumeric()==True else False\n",
    "print('String is numeric: ', response)\n",
    "#Entered String: 46373837846"
   ]
  },
  {
   "cell_type": "code",
   "execution_count": 8,
   "id": "f94ceb35-413a-49dd-83b6-a033fedbe546",
   "metadata": {},
   "outputs": [
    {
     "data": {
      "text/plain": [
       "[('orange', 80), ('mango', 99), ('grapes', 1000)]"
      ]
     },
     "execution_count": 8,
     "metadata": {},
     "output_type": "execute_result"
    }
   ],
   "source": [
    "#TASK2 Q3\n",
    "list_of_tuples = [('mango',99),('orange',80),('grapes',1000)]\n",
    "sorted(list_of_tuples, key=lambda x: x[1])"
   ]
  },
  {
   "cell_type": "code",
   "execution_count": 9,
   "id": "4b0c465a-901e-4921-bd1a-f836ec10753b",
   "metadata": {},
   "outputs": [
    {
     "data": {
      "text/plain": [
       "[0, 1, 4, 9, 16, 25, 36, 49, 64, 81, 100]"
      ]
     },
     "execution_count": 9,
     "metadata": {},
     "output_type": "execute_result"
    }
   ],
   "source": [
    "#TASK2 Q4\n",
    "list_of_nums = list(range(11))\n",
    "list(map(lambda input_list: input_list**2, list_of_nums))"
   ]
  },
  {
   "cell_type": "code",
   "execution_count": 10,
   "id": "578bf8b2-cae3-4203-900c-d83cecf03ef9",
   "metadata": {},
   "outputs": [
    {
     "data": {
      "text/plain": [
       "[0.0,\n",
       " 1.0,\n",
       " 1.2599210498948732,\n",
       " 1.4422495703074083,\n",
       " 1.5874010519681994,\n",
       " 1.7099759466766968,\n",
       " 1.8171205928321397,\n",
       " 1.912931182772389,\n",
       " 2.0,\n",
       " 2.080083823051904,\n",
       " 2.154434690031884]"
      ]
     },
     "execution_count": 10,
     "metadata": {},
     "output_type": "execute_result"
    }
   ],
   "source": [
    "#TASK2 Q5\n",
    "list_of_nums = list(range(11))\n",
    "list(map(lambda input_list: input_list** (1/3), list_of_nums))\n"
   ]
  },
  {
   "cell_type": "code",
   "execution_count": 11,
   "id": "719b5790-45b9-4f2e-b550-35d525655b33",
   "metadata": {},
   "outputs": [
    {
     "data": {
      "text/plain": [
       "[True, False, True, False, True, False, True, False, True, False, True]"
      ]
     },
     "execution_count": 11,
     "metadata": {},
     "output_type": "execute_result"
    }
   ],
   "source": [
    "#TASK2 Q6\n",
    "given_numbers=list(range(11))\n",
    "list(map(lambda input_list:True if input_list%2==0 else False, given_numbers))"
   ]
  },
  {
   "cell_type": "code",
   "execution_count": 12,
   "id": "41ad5547-3187-4123-8fe0-bfb40a922726",
   "metadata": {},
   "outputs": [
    {
     "data": {
      "text/plain": [
       "[1, 3, 5, 7, 9]"
      ]
     },
     "execution_count": 12,
     "metadata": {},
     "output_type": "execute_result"
    }
   ],
   "source": [
    "#TASK2 Q7\n",
    "list_of_nums=list(range(11))\n",
    "list(filter(lambda input_list:input_list%2!=0, list_of_nums))\n"
   ]
  },
  {
   "cell_type": "code",
   "execution_count": 13,
   "id": "03407044-d995-47a0-9f9f-0f9a9531cdfe",
   "metadata": {},
   "outputs": [
    {
     "name": "stdout",
     "output_type": "stream",
     "text": [
      "[1, 2, 3, 4, 5, 6, 0] [-1, -2, -3, -4, -5]\n"
     ]
    }
   ],
   "source": [
    "#TASK2 Q8\n",
    "given_list = [1,2,3,4,5,6,-1,-2,-3,-4,-5,0]\n",
    "\n",
    "pos_list=[each_element for each_element in given_list if each_element>=0]\n",
    "neg_list=[each_element for each_element in given_list if each_element<0]\n",
    "print(pos_list,neg_list)"
   ]
  },
  {
   "cell_type": "code",
   "execution_count": null,
   "id": "6f31450c-79ee-486a-93ff-bf60bd122c9c",
   "metadata": {},
   "outputs": [],
   "source": []
  }
 ],
 "metadata": {
  "kernelspec": {
   "display_name": "Python 3 (ipykernel)",
   "language": "python",
   "name": "python3"
  },
  "language_info": {
   "codemirror_mode": {
    "name": "ipython",
    "version": 3
   },
   "file_extension": ".py",
   "mimetype": "text/x-python",
   "name": "python",
   "nbconvert_exporter": "python",
   "pygments_lexer": "ipython3",
   "version": "3.10.8"
  }
 },
 "nbformat": 4,
 "nbformat_minor": 5
}
