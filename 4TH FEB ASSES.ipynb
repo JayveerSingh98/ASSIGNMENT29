{
 "cells": [
  {
   "cell_type": "code",
   "execution_count": null,
   "id": "fc2bbcab-65e1-45dd-be2d-11a863cd6ccb",
   "metadata": {},
   "outputs": [],
   "source": [
    "#Q1\n",
    "l_tup = [('Sachin Tendulkar', 34357), ('Ricky Ponting', 27483), ('Jack Kallis', 25534), ('Virat Kohli', 24936)]\n",
    "sorted_list = sorted(l_tup, key=lambda x: x[1])\n",
    "print(sorted_list)"
   ]
  },
  {
   "cell_type": "code",
   "execution_count": null,
   "id": "db08cda2-998a-4c6a-bb25-764da899830e",
   "metadata": {},
   "outputs": [],
   "source": [
    "#Q2\n",
    "given_list = [1,2,3,4,5,6,7,8,9,10]\n",
    "list(map(lambda input_list: input_list**2, given_list))"
   ]
  },
  {
   "cell_type": "code",
   "execution_count": null,
   "id": "475615f6-3c68-4ca0-9c79-1a7425be4fd8",
   "metadata": {},
   "outputs": [],
   "source": [
    "#Q3\n",
    "given_list = [1,2,3,4,5,6,7,8,9,10]\n",
    "tuple(map(lambda input_list: str(input_list), given_list))"
   ]
  },
  {
   "cell_type": "code",
   "execution_count": null,
   "id": "abfc1a86-a9db-400f-a2e6-0443288ad94d",
   "metadata": {},
   "outputs": [],
   "source": [
    "#Q4\n",
    "from functools import reduce\n",
    "given_list = list(range(1,26))\n",
    "reduce(lambda x,y: x*y, given_list)"
   ]
  },
  {
   "cell_type": "code",
   "execution_count": null,
   "id": "dad803cc-ed4d-4c1c-8d29-1afae166c62d",
   "metadata": {},
   "outputs": [],
   "source": [
    "#Q5\n"
   ]
  }
 ],
 "metadata": {
  "kernelspec": {
   "display_name": "Python 3 (ipykernel)",
   "language": "python",
   "name": "python3"
  },
  "language_info": {
   "codemirror_mode": {
    "name": "ipython",
    "version": 3
   },
   "file_extension": ".py",
   "mimetype": "text/x-python",
   "name": "python",
   "nbconvert_exporter": "python",
   "pygments_lexer": "ipython3",
   "version": "3.10.8"
  }
 },
 "nbformat": 4,
 "nbformat_minor": 5
}
