{
 "cells": [
  {
   "cell_type": "code",
   "execution_count": 1,
   "id": "0c0aa75b-d582-414a-aaaf-63bd98995af4",
   "metadata": {},
   "outputs": [],
   "source": [
    "#Q1\n",
    "class vehicle:\n",
    "    def __init__(self, name_of_vehicle, max_speed, average_of_vehicle):\n",
    "        self.name_of_vehicle = name_of_vehicle\n",
    "        self.max_speed = max_speed\n",
    "        self.average_of = average_of_vehicle"
   ]
  },
  {
   "cell_type": "code",
   "execution_count": 2,
   "id": "74da0fa5-74e1-4f96-81ae-57826d522bc1",
   "metadata": {},
   "outputs": [],
   "source": [
    "#Q2\n",
    "class car(vehicle):\n",
    "    def seating_capacity(self, capacity):\n",
    "        return self.name_of_vehicle, capacity\n",
    "        "
   ]
  },
  {
   "cell_type": "code",
   "execution_count": 3,
   "id": "b466f576-3149-4761-8d7d-907ed14a7c68",
   "metadata": {},
   "outputs": [],
   "source": [
    "child_obj = car('Toyota', 120, 70)"
   ]
  },
  {
   "cell_type": "code",
   "execution_count": 4,
   "id": "48c21121-9159-466b-a0e2-6e85dbd07de7",
   "metadata": {},
   "outputs": [
    {
     "data": {
      "text/plain": [
       "('Toyota', 5)"
      ]
     },
     "execution_count": 4,
     "metadata": {},
     "output_type": "execute_result"
    }
   ],
   "source": [
    "child_obj.seating_capacity(5)"
   ]
  },
  {
   "cell_type": "code",
   "execution_count": null,
   "id": "ee33f607-a36a-40fd-9e63-a8fed3484b2a",
   "metadata": {},
   "outputs": [],
   "source": [
    "#Q3\n",
    "Multiple inheritance is a feature of object-oriented programming languages that allows a class to inherit from more than one parent class. \n",
    "In other words, a subclass can inherit properties and methods from multiple parent classes.\n",
    "\n"
   ]
  },
  {
   "cell_type": "code",
   "execution_count": 8,
   "id": "38ba479a-d449-48e5-8ec0-40491be3dffb",
   "metadata": {},
   "outputs": [
    {
     "data": {
      "text/plain": [
       "'this is method of class 1'"
      ]
     },
     "execution_count": 8,
     "metadata": {},
     "output_type": "execute_result"
    }
   ],
   "source": [
    "class super_class1:\n",
    "    def class1_func(self):\n",
    "        return 'this is method of class 1'\n",
    "\n",
    "class super_class2:\n",
    "    def class2_func(self):\n",
    "        return 'this is method of class 2'\n",
    "    \n",
    "class sub_class(super_class1, super_class2):\n",
    "    pass\n",
    "\n",
    "subclass_obj = sub_class()\n",
    "\n",
    "subclass_obj.class1_func()\n"
   ]
  },
  {
   "cell_type": "code",
   "execution_count": 9,
   "id": "eb5fc59f-fd28-479c-ab88-4168ed5a0dd4",
   "metadata": {},
   "outputs": [
    {
     "data": {
      "text/plain": [
       "'this is method of class 2'"
      ]
     },
     "execution_count": 9,
     "metadata": {},
     "output_type": "execute_result"
    }
   ],
   "source": [
    "subclass_obj.class2_func()"
   ]
  },
  {
   "cell_type": "code",
   "execution_count": null,
   "id": "94cd4b57-0aec-4146-97eb-8abbbd34525b",
   "metadata": {},
   "outputs": [],
   "source": [
    "#Q4\n",
    "We use getters and setters in Python to restrict/hide an attribute/attirbutes (make it private) and define methods (getters and setters) to manipulate thse variables.\n",
    "\n"
   ]
  },
  {
   "cell_type": "code",
   "execution_count": 13,
   "id": "0600d80c-d036-4e35-92d3-035fb22f7bf0",
   "metadata": {},
   "outputs": [
    {
     "data": {
      "text/plain": [
       "22"
      ]
     },
     "execution_count": 13,
     "metadata": {},
     "output_type": "execute_result"
    }
   ],
   "source": [
    "class ExampleClass:\n",
    "    def __init__ (self, some_value):\n",
    "        self.__some_value = some_value\n",
    "    \n",
    "    #getter method\n",
    "    def get_value(self):\n",
    "        return self.__some_value\n",
    "    \n",
    "    #setter method\n",
    "    def set_value(self,some_value):\n",
    "        self.__some_value = 0 if some_value<0 else some_value\n",
    "    \n",
    "obj = ExampleClass(22)\n",
    "obj.get_value()"
   ]
  },
  {
   "cell_type": "code",
   "execution_count": 14,
   "id": "3412c926-e50c-4732-9889-61bb70dfed39",
   "metadata": {},
   "outputs": [
    {
     "data": {
      "text/plain": [
       "95"
      ]
     },
     "execution_count": 14,
     "metadata": {},
     "output_type": "execute_result"
    }
   ],
   "source": [
    "obj.set_value(95)\n",
    "obj.get_value()"
   ]
  },
  {
   "cell_type": "code",
   "execution_count": null,
   "id": "2e1f6436-01d4-4d02-87f6-81d9152286c2",
   "metadata": {},
   "outputs": [],
   "source": [
    "Method overriding is a feature of object-oriented programming languages where the subclass or child class can provide the program with specific characteristics or a specific implementation process of data provided that are already defined in the parent class or superclass.\n",
    "\n",
    "class superclass:\n",
    "    def some_method(self):\n",
    "        return 'this is some_method from superclass'\n",
    "    \n",
    "class subclass(superclass):\n",
    "    def some_method(self):\n",
    "        return 'this is some_method from subclass'\n",
    "super_obj = superclass()\n",
    "sub_obj = subclass()\n",
    "super_obj.some_method()"
   ]
  }
 ],
 "metadata": {
  "kernelspec": {
   "display_name": "Python 3 (ipykernel)",
   "language": "python",
   "name": "python3"
  },
  "language_info": {
   "codemirror_mode": {
    "name": "ipython",
    "version": 3
   },
   "file_extension": ".py",
   "mimetype": "text/x-python",
   "name": "python",
   "nbconvert_exporter": "python",
   "pygments_lexer": "ipython3",
   "version": "3.10.8"
  }
 },
 "nbformat": 4,
 "nbformat_minor": 5
}
