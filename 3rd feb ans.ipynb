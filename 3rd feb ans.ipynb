{
 "cells": [
  {
   "cell_type": "code",
   "execution_count": null,
   "id": "c8627ea8-42ce-473d-b28d-009bf870369b",
   "metadata": {},
   "outputs": [],
   "source": [
    "Q1-\n",
    "\"def\" keyword is used to define/create a function\n",
    "\n",
    "def odd():\n",
    "    l=[]\n",
    "    for i in range(1,26,1):\n",
    "        if i%2!=0:\n",
    "            l.append(i)\n",
    "    return(l)  \n",
    "\t\n",
    "calling- odd() \n",
    "o/p- [1, 3, 5, 7, 9, 11, 13, 15, 17, 19, 21, 23, 25]\n"
   ]
  },
  {
   "cell_type": "code",
   "execution_count": null,
   "id": "17f43769-0f7c-4a44-bb89-85570ca2ba53",
   "metadata": {},
   "outputs": [],
   "source": [
    "Q2-\n",
    "\n",
    "*args and **kwargs allow you to pass multiple arguments or keyword arguments to a function.\n",
    "\n",
    "def test(*args):\n",
    "    return args\n",
    "\n",
    "calling- test(11,22,22,23233222)\n",
    "\n",
    "def test(**kwargs):\n",
    "    return kwargs\n",
    "\t\n",
    "calling- test(a=11,b=22,c=44)"
   ]
  },
  {
   "cell_type": "code",
   "execution_count": null,
   "id": "1cfab502-8287-45b9-a71d-f8aba0c0e2df",
   "metadata": {},
   "outputs": [],
   "source": [
    "Q3-\n",
    "\n",
    "iterator is a object that can be iterated upon ,means we can traverse  all the values of it.\n",
    "Method used to initialise an iterator is iter().\n",
    "\n",
    "l=[2,4,6,8,10,12]\n",
    "i=0\n",
    "myiter =iter(l)\n",
    "while i<+5:\n",
    "    print(next(myiter))\n",
    "    i+=1\t"
   ]
  },
  {
   "cell_type": "code",
   "execution_count": null,
   "id": "d11acd7a-1f7d-49b6-8745-b3c60cb30880",
   "metadata": {},
   "outputs": [],
   "source": [
    "Q4-\n",
    "\n",
    "In Python, a generator is a function that returns an iterator that produces a sequence of values when iterated over. \n",
    "Generators are useful when we want to produce a large sequence of values, but we don't want to store all of them in memory at once.\t\n",
    "yield keyword is used to create a generator function.\n",
    "ex-\n",
    "def test_fib(n):\n",
    "     a,b=0,1\n",
    "\t for i in range (n):\n",
    "          yield a \n",
    "\t\t  a,b=b,a+b\n",
    " \n",
    "for i in test_fib(10):\n",
    "     print(i) \n"
   ]
  },
  {
   "cell_type": "code",
   "execution_count": null,
   "id": "64d4315e-1e6e-4f82-912e-236bbd12747f",
   "metadata": {},
   "outputs": [],
   "source": [
    "Q5-\n",
    "\n",
    "def prime_number():\n",
    "    primes=[]\n",
    "    for num in range(2,1000):\n",
    "        for prime in primes :\n",
    "            if num%prime==0:\n",
    "                break\n",
    "        else:\n",
    "            primes.append(num)\n",
    "            yield(num)\n",
    "\n",
    "prime=prime_number()\n",
    "for i in range (1,21):\n",
    "    print(next(prime))\n"
   ]
  },
  {
   "cell_type": "code",
   "execution_count": null,
   "id": "bcee6267-01cd-45e8-9bdf-af0ea92f5811",
   "metadata": {},
   "outputs": [],
   "source": [
    "Q6-\n",
    "\n",
    "num=int (input(\"give no.\"))\n",
    "a,b=0,1\n",
    "counter=0\n",
    "while counter<num:\n",
    "    print(a)\n",
    "    c=a+b\n",
    "    a=b\n",
    "    b=c\n",
    "    counter=counter+1\n",
    "i/p- 10\n",
    "\n",
    "\t"
   ]
  },
  {
   "cell_type": "code",
   "execution_count": null,
   "id": "d705e304-1f50-4ec1-b2a7-015438e919ee",
   "metadata": {},
   "outputs": [],
   "source": [
    "Q7-\n",
    "l='pwskills'\n",
    "\n",
    "[i for i in l]\t\n"
   ]
  },
  {
   "cell_type": "code",
   "execution_count": null,
   "id": "9044c20c-f0b8-4ca0-b4d3-3cca98ec0444",
   "metadata": {},
   "outputs": [],
   "source": [
    "Q8-\n",
    "\n",
    "number = int(input(\"Enter a number: \"))\n",
    "temp = number\n",
    "reverse = 0\n",
    "\n",
    "while temp > 0:\n",
    "    # Get the rightmost digit of the number\n",
    "    digit = temp % 10\n",
    "    # Add the digit to the reverse number\n",
    "    reverse = (reverse * 10) + digit\n",
    "    # Remove the rightmost digit from the number\n",
    "    temp = temp // 10\n",
    "\n",
    "if number == reverse:\n",
    "    print(f\"{number} is a palindrome.\")\n",
    "else:\n",
    "    print(f\"{number} is not a palindrome.\")\n"
   ]
  },
  {
   "cell_type": "code",
   "execution_count": null,
   "id": "04ab8af6-71bf-426d-b433-4de2df30c46b",
   "metadata": {},
   "outputs": [],
   "source": [
    "Q9-\n",
    "\n",
    "a=list(i for i in range(1,101,1) if i%2!=0)\n",
    "print(a)\n"
   ]
  }
 ],
 "metadata": {
  "kernelspec": {
   "display_name": "Python 3 (ipykernel)",
   "language": "python",
   "name": "python3"
  },
  "language_info": {
   "codemirror_mode": {
    "name": "ipython",
    "version": 3
   },
   "file_extension": ".py",
   "mimetype": "text/x-python",
   "name": "python",
   "nbconvert_exporter": "python",
   "pygments_lexer": "ipython3",
   "version": "3.10.8"
  }
 },
 "nbformat": 4,
 "nbformat_minor": 5
}
